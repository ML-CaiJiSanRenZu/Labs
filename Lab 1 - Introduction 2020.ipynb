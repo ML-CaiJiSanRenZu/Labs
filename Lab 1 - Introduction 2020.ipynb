{
 "cells": [
  {
   "cell_type": "markdown",
   "source": [
    "# Submission information\n",
    "\n",
    "In future labs (which will be assessed), you will be asked to submit the notebook file in Canvas. When you do, please fill in your group number and names in the table below.\n",
    "\n",
    "|  Information  |  Your reply  |\n",
    "|-----------|:---------------------------------|\n",
    "| **Group** | *Practicals 31* |\n",
    "| **Group member 1** | *Shuyu Chen* |\n",
    "| **Group member 2** | *Yijing Zeng* |\n",
    "| **Group member 3**| *Jiangpengchen Kang* |"
   ],
   "metadata": {}
  },
  {
   "cell_type": "markdown",
   "source": [
    "# Introduction\n",
    "\n",
    "The labs for Basic Machine Learning are in Python 3.5, a powerful interpreted language. Python is being commonly used in machine learning research, as it is fast, portable, has a clean syntax and sports a large collection of scientific software libraries. In this lab, you get an opportunity to familiarise yourself with the software and with the way the labs are set up, as well as with model performance evaluation. This first lab is not graded, but don't hesitate to ask for feedback or help if you get stuck.\n",
    "\n",
    "In order to deal with the mathematics that we deal with in this course, we make regular use of a few python libraries:\n",
    "\n",
    "* numpy, which allows us to work with vectors and matrices\n",
    "* scipy, which gives us access to a variety of scientific algorithms\n",
    "* matplotlib, which allows us to plot our results\n",
    "\n",
    "Notice that when applying machine learning to practical problems, you will probably want to use more high-level libraries such as scikit learn and tensorflow. However, as the purpose of this course is to familiarise you with what's happening behind the scenes, here we focus more on implementing and modifying algorithms, rather than applying canned versions of the same.\n",
    "\n",
    "For this introduction, we will run our practical exercises within a \"*notebook*\" like this one: an interactive web page that integrates both code and text, allowing us to combine the code with documentation. In this case, you will edit this notebook to write your code and provide answers to the questions. Much of the documentation for python and its libraries can be found online. In particular, you should be able to do the exercises described in this document with the information available at http://scipy.org/docs.html\n",
    "    \n",
    "Before we start, let's load the libraries that we will need for this exercise. You need to execute (\"run\") the code in the cell in order for the code in the cells below to work. "
   ],
   "metadata": {}
  },
  {
   "cell_type": "code",
   "execution_count": 1,
   "source": [
    "# The following line makes sure that when we plot stuff it shows up in the notebook\n",
    "# comment it out for the plots to show in a different window.\n",
    "#%matplotlib inline \n",
    "\n",
    "import scipy.stats as stats     # Statistics module\n",
    "import numpy as np              # Module for, among others, matrix operations\n",
    "import matplotlib.pyplot as plt # Plotting\n",
    "#import scipy.io as sio         # We don't use this, but it's good to know about: \n",
    "                                # allow for the import from, and export to, Matlab files\n",
    "       \n"
   ],
   "outputs": [],
   "metadata": {}
  },
  {
   "cell_type": "markdown",
   "source": [
    "## Example question\n",
    "\n",
    "**Question 1**\n",
    "\n",
    "What is the square root of two?"
   ],
   "metadata": {}
  },
  {
   "cell_type": "code",
   "execution_count": 2,
   "source": [
    "# Your answer comes here \n",
    "s=np.sqrt(2.)\n",
    "print(\"The square root of 2 is:\",s)"
   ],
   "outputs": [
    {
     "name": "stdout",
     "output_type": "stream",
     "text": [
      "The square root of 2 is: 1.4142135623730951\n"
     ]
    }
   ],
   "metadata": {}
  },
  {
   "cell_type": "markdown",
   "source": [
    "The square root is computed using the numpy library in this case. Using numpy rather than the Math library for such trivial things is useful, because it allows us to deal with infinity in a principled manner. For example:"
   ],
   "metadata": {}
  },
  {
   "cell_type": "code",
   "execution_count": 3,
   "source": [
    "\n",
    "with np.errstate(divide='ignore'):\n",
    "    print(\"The natural logarithm of zero is:\", np.log(0))\n",
    "    print(\"... and the exponent of that logarithm is:\", np.exp(np.log(0)))\n",
    "\n",
    "import math\n",
    "\n",
    "print(\"Now, using the math library, ... \", end=\"\")\n",
    "try:\n",
    "    print(\"this gives an exception:\", math.log(0))\n",
    "except:\n",
    "    print(\"well, that didn't work.\")\n",
    "\n",
    "#Q2_END"
   ],
   "outputs": [
    {
     "name": "stdout",
     "output_type": "stream",
     "text": [
      "The natural logarithm of zero is: -inf\n",
      "... and the exponent of that logarithm is: 0.0\n",
      "Now, using the math library, ... well, that didn't work.\n"
     ]
    }
   ],
   "metadata": {}
  },
  {
   "cell_type": "markdown",
   "source": [
    "# Basic stuff\n",
    "\n",
    "Let's start by playing around a little with some data. Start by loading the variables saved in the file \"``data.npz``\". This can be done using the \"**numpy.load**\" command. This file contains multible variables, which can be accessed as elements of a dictionary structure. In the following, we will refer to these variables by their key in the file, so for example, $v$ refers to the vector that you can access as ``data['v']`` if you called your dictionary \"data\".\n",
    "\n",
    "Answer the following questions:\n",
    "\n",
    "1. What is the order of $v$?\n",
    "1. Compute the 2-norm of $v$, $|v|^2$ . Notice that v is relatively large, which can lead to out-of-memory errors if you're not careful. Check out the numpy ``dot()`` function.\n",
    "1. use ``%timeit`` to check how long the computation takes, and report the results\n",
    "1. How many elements of v are larger than 1? How many are larger than $2, 3,\\dots,5$?\n",
    "\n",
    "## Playing with data\n",
    "\n",
    "Have a look at the code below and try to make sure you understand it."
   ],
   "metadata": {}
  },
  {
   "cell_type": "code",
   "execution_count": 4,
   "source": [
    "d = np.load(\"datasets/data.npz\")\n",
    "\n",
    "print(\"'data.npz' is a file that contains a number of variables, called:\")\n",
    "for k in d.keys():\n",
    "    print('  ', k, 'which is of size',d[k].shape)\n",
    "    \n",
    "# Let us play with vector 'v'    \n",
    "v = d['v']\n",
    "\n",
    "print(\"  The order of V\", v.shape)\n",
    "print(\"  The two-norm of v\", np.sqrt(v.T.dot(v)))\n",
    "\n",
    "print(\"Timing inner product\")\n",
    "%time v.T.dot(v)\n",
    "\n",
    "# The following code counts how many elements in v are larger than t (and times how long it takes to do that)\n",
    "# This relies on \"list comprehension,\" which makes for some very compact code but may require some getting used to\n",
    "%time for t in [1,2,3,4,5]: print(\"  Number of elements >\",t,\":\",len([x for x in v if x>t]))\n",
    "\n",
    "    \n",
    "# Here are some other ways to do the same:\n",
    "# Using numpy vector operations\n",
    "%time for t in [1,2,3,4,5]: print(\"  Using numpy, the number of elements >\",t,\":\",np.sum(v>t))\n",
    "\n",
    "# using a standard for loop:\n",
    "\n",
    "def countLargerThan(t):\n",
    "    count=0\n",
    "    for x in v:\n",
    "        if x>t:\n",
    "            count+=1\n",
    "    return count\n",
    "\n",
    "def countAll():\n",
    "    for t in range(1,6):\n",
    "        print(\"  Using for loops, the number of elements >\",t,\":\",countLargerThan(t))\n",
    "%time countAll()"
   ],
   "outputs": [
    {
     "name": "stdout",
     "output_type": "stream",
     "text": [
      "'data.npz' is a file that contains a number of variables, called:\n",
      "   a which is of size (300, 1)\n",
      "   v2 which is of size (1000, 1)\n",
      "   b which is of size (300, 1)\n",
      "   l which is of size (1000, 1)\n",
      "   v which is of size (200000, 1)\n",
      "  The order of V (200000, 1)\n",
      "  The two-norm of v [[446.56104741]]\n",
      "Timing inner product\n",
      "Wall time: 0 ns\n",
      "  Number of elements > 1 : 31834\n",
      "  Number of elements > 2 : 4472\n",
      "  Number of elements > 3 : 262\n",
      "  Number of elements > 4 : 9\n",
      "  Number of elements > 5 : 0\n",
      "Wall time: 960 ms\n",
      "  Using numpy, the number of elements > 1 : 31834\n",
      "  Using numpy, the number of elements > 2 : 4472\n",
      "  Using numpy, the number of elements > 3 : 262\n",
      "  Using numpy, the number of elements > 4 : 9\n",
      "  Using numpy, the number of elements > 5 : 0\n",
      "Wall time: 4.99 ms\n",
      "  Using for loops, the number of elements > 1 : 31834\n",
      "  Using for loops, the number of elements > 2 : 4472\n",
      "  Using for loops, the number of elements > 3 : 262\n",
      "  Using for loops, the number of elements > 4 : 9\n",
      "  Using for loops, the number of elements > 5 : 0\n",
      "Wall time: 954 ms\n"
     ]
    }
   ],
   "metadata": {}
  },
  {
   "cell_type": "markdown",
   "source": [
    "## Plotting\n",
    "\n",
    "Now its your turn. \n",
    "\n",
    "**Question 3** Plot, in the range $[-5\\dots 5]$, the Gaussian PDFs with parameters $(\\mu=0,\\sigma=1), (\\mu=0, \\sigma=2), (\\mu=0, \\sigma=3)$. Use the functions *plt.plot*, *stats.norm.pdf* and *plt.legend*\n"
   ],
   "metadata": {}
  },
  {
   "cell_type": "code",
   "execution_count": 5,
   "source": [
    "# Your answer comes here \n",
    "fig, ax = plt.subplots(1, 1)\n",
    "\n",
    "x = np.linspace(-5, 5, 100)\n",
    "ax.plot(x, stats.norm.pdf(x, 0, 1), 'r-', label=\"$\\mu$=0, $\\sigma$=1\")\n",
    "ax.plot(x, stats.norm.pdf(x, 0, 2), 'k-', label=\"$\\mu$=0, $\\sigma$=2\")\n",
    "ax.plot(x, stats.norm.pdf(x, 0, 3), 'b-', label=\"$\\mu$=0, $\\sigma$=3\")\n",
    "\n",
    "ax.legend(loc='best')\n",
    "plt.show()\n",
    "# I often leave output of my own code below the answer space, to give you an idea of the expected answer. \n",
    "# Running your own code will replace it. "
   ],
   "outputs": [
    {
     "data": {
      "text/plain": "<Figure size 432x288 with 1 Axes>",
      "image/png": "[encoded data removed]"
     },
     "metadata": {
      "needs_background": "light"
     },
     "output_type": "display_data"
    }
   ],
   "metadata": {}
  },
  {
   "cell_type": "markdown",
   "source": [
    "## Playing with matrices and Python\n",
    "\n",
    "**Question 4** Plot a normalised histogram of the elements in vector ``v2`` using 20 bins, and superimpose a plot, in the range $[−5, \\dots , 5]$ of the Gaussian distribution with the mean and variance of the data. Use the built-in functions to compute these. In particular, use **np.mean** and **np.cov** to fit the parameters to the data."
   ],
   "metadata": {}
  },
  {
   "cell_type": "code",
   "execution_count": 6,
   "source": [
    "import time\n",
    "\n",
    "v2 = d['v2']\n",
    "\n",
    "fig2, ax2 = plt.subplots(1, 1)\n",
    "\n",
    "# normalized histogram\n",
    "ax2.hist(v2, bins=20, density=True)\n",
    "\n",
    "start1 = time.time_ns()\n",
    "mean = np.mean(v2)\n",
    "variance = np.var(v2)\n",
    "end1 = time.time_ns()\n",
    "duration1 = end1-start1\n",
    "\n",
    "# Gaussian distribution\n",
    "x2 = np.linspace(-5, 5, 100)\n",
    "ax2.plot(x2, stats.norm.pdf(x2, mean, variance), 'r-', label=f'$\\mu$={int(mean*1000)/1000}, $\\sigma$={int(variance*1000)/1000}')\n",
    "\n",
    "ax2.legend(loc='best')\n",
    "plt.show()\n"
   ],
   "outputs": [
    {
     "data": {
      "text/plain": "<Figure size 432x288 with 1 Axes>",
      "image/png": "[encoded data removed]"
     },
     "metadata": {
      "needs_background": "light"
     },
     "output_type": "display_data"
    }
   ],
   "metadata": {}
  },
  {
   "cell_type": "markdown",
   "source": [
    "Get information on the *np.cov* function using the **help** function. As we will see later, this function does not provide you with the maximum likelihood estimator (MLE) of the parameters. For the Gaussian function, the MLE are \n",
    "\n",
    "$$\\boldsymbol{\\mu} = \\frac{\\sum_{n=1}^N \\mathbf{x}_n}{N}$$ \n",
    "\n",
    "and\n",
    "\n",
    "$$\\boldsymbol{\\Sigma} = \\frac{\\sum_{n=1}^N (\\mathbf{x}_n-\\boldsymbol{\\mu})^2}{N}$$\n",
    "\n",
    "**Question 5** Write your own code to compute these parameters and compare the values you obtain to those returned by the built-in function. How does your implementation compare in terms of execution speed?\n",
    "    "
   ],
   "metadata": {}
  },
  {
   "cell_type": "code",
   "execution_count": 7,
   "source": [
    "# Our code for calculating mean and variance of v2\n",
    "# mean\n",
    "start2 = time.time_ns()\n",
    "sum_ = 0\n",
    "sum_var = 0\n",
    "for x in v2:\n",
    "    sum_ = sum_ + x[0]\n",
    "\n",
    "mean = sum_ / v2.size\n",
    "\n",
    "for x in v2:\n",
    "    sum_var = sum_var + (x-mean)*(x-mean)\n",
    "\n",
    "variance = sum_var / v2.size\n",
    "end2 = time.time_ns()\n",
    "\n",
    "duration2 = end2 - start2\n",
    "\n",
    "print(duration1)\n",
    "print(duration2)"
   ],
   "outputs": [
    {
     "name": "stdout",
     "output_type": "stream",
     "text": [
      "997200\n",
      "2988700\n"
     ]
    }
   ],
   "metadata": {}
  },
  {
   "cell_type": "markdown",
   "source": [
    "# More advanced things...\n",
    "\n",
    "**Question 6** Load the dataset in ``data-2class.npz``. This file contains a set of 2-dimensional points $d$, and a corresponding set of labels $l$\n",
    "\n",
    "1. Create a 2D scatterplot of $d$, using red for the elements with corresponding label 0, and blue for $l_i=1$\n",
    "1. Draw a straight line separating the two classes. That is, figure out by hand how that line should look and plot it.\n",
    "1. Fit two 2D Gaussian distributions, to the points with label $l_i=0$ and $l_i=1$. \n",
    "1. Create a heatmap of these distributions, and overlay a scatterplot of the data. \n",
    "\n"
   ],
   "metadata": {}
  },
  {
   "cell_type": "code",
   "execution_count": 8,
   "source": [
    "# Our own implementation of the multivariate Gaussian Distribution\n",
    "# We will re-use and come back to this code later in the course.\n",
    "class Gauss:\n",
    "    \"\"\"Class for computing the probability density function of a Gaussian distribution with given \n",
    "    mean vector and covariance matrix, at point x\"\"\"\n",
    "    \n",
    "    def __init__(self, mu, sigma):\n",
    "        \"\"\"Initialise a distribution with mean mu and covariance sigma\n",
    "        \n",
    "        Precompute and store everything that is not dependent\n",
    "        on the datapont, so as to keep things efficient\"\"\"\n",
    "        D = mu.size\n",
    "        \n",
    "        self.mu = mu\n",
    "        self.icov = np.linalg.inv(sigma)\n",
    "        sign,ld = np.linalg.slogdet(sigma)\n",
    "        if sign != 1:\n",
    "            print(\"Sign=\",sign)\n",
    "        \n",
    "        self.lognum = D*np.log(2*np.pi) + ld\n",
    "                            \n",
    "    def logprob(self,x):\n",
    "        \"\"\"return log(p(x))\"\"\"\n",
    "        d = x-self.mu\n",
    "        return -.5 * (self.lognum + np.dot(np.dot(d,self.icov),d))\n",
    "    \n",
    "    def prob(self,x):\n",
    "        \"\"\"return p(x)\"\"\"\n",
    "        return np.exp(self.logprob(x))     \n",
    "    "
   ],
   "outputs": [],
   "metadata": {}
  },
  {
   "cell_type": "code",
   "execution_count": 16,
   "source": [
    "#question 6-1\n",
    "data = np.load(\"datasets/data-2class.npz\")\n",
    "for k in data.keys():\n",
    "    print(k)\n",
    "d = data['d']\n",
    "l = data['l'].flatten()\n",
    "\n",
    "x0, y0 ,x1, y1= [], [], [], []\n",
    "for d_, l_ in zip(d, l):\n",
    "    if l_ == 0:\n",
    "        x0.append(d_[0])\n",
    "        y0.append(d_[1])\n",
    "    else:\n",
    "        x1.append(d_[0])\n",
    "        y1.append(d_[1])\n",
    "\n",
    "plt.scatter(x0, y0, c='#FF6347', label='0', s=2)\n",
    "plt.scatter(x1, y1, c='#00BFFF', label='1', s=2)\n",
    "plt.legend(loc='best')\n",
    "plt.show()\n",
    "\n",
    "# question 6-2\n",
    "# find the line\n",
    "\n",
    "# Using matplotlib to plot a heatmap\n",
    "from matplotlib import mlab\n",
    "\n",
    "#"
   ],
   "outputs": [
    {
     "name": "stdout",
     "output_type": "stream",
     "text": [
      "d\n",
      "l\n"
     ]
    },
    {
     "data": {
      "text/plain": "<Figure size 432x288 with 1 Axes>",
      "image/png": "[encoded data removed]"
     },
     "metadata": {
      "needs_background": "light"
     },
     "output_type": "display_data"
    }
   ],
   "metadata": {}
  },
  {
   "cell_type": "code",
   "execution_count": null,
   "source": [],
   "outputs": [],
   "metadata": {}
  }
 ],
 "metadata": {
  "kernelspec": {
   "name": "pycharm-3532eb50",
   "language": "python",
   "display_name": "PyCharm (Lab1)"
  },
  "language_info": {
   "codemirror_mode": {
    "name": "ipython",
    "version": 3
   },
   "file_extension": ".py",
   "mimetype": "text/x-python",
   "name": "python",
   "nbconvert_exporter": "python",
   "pygments_lexer": "ipython3",
   "version": "3.6.9"
  }
 },
 "nbformat": 4,
 "nbformat_minor": 1
}